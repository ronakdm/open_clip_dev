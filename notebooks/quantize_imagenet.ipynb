{
 "cells": [
  {
   "cell_type": "code",
   "execution_count": 1,
   "metadata": {},
   "outputs": [],
   "source": [
    "import torch\n",
    "import open_clip\n",
    "from training.data import get_data, CsvDataset\n",
    "from training.params import parse_args\n",
    "from tqdm import tqdm\n",
    "from torch.utils.data.distributed import DistributedSampler\n",
    "from torch.utils.data import DataLoader\n",
    "\n",
    "import pickle\n",
    "import os\n",
    "\n",
    "import faiss\n",
    "import numpy as np\n",
    "from sklearn.decomposition import PCA\n",
    "from sklearn.preprocessing import normalize"
   ]
  },
  {
   "cell_type": "code",
   "execution_count": 35,
   "metadata": {},
   "outputs": [],
   "source": [
    "DATA_PATH = '/mnt/ssd/ronak/datasets/imagenet_captions'\n",
    "DEVICE = 'cuda:1'"
   ]
  },
  {
   "cell_type": "markdown",
   "metadata": {},
   "source": [
    "### Load ViT-B/32 Trained on Laion2B and ImageNet Captions Data"
   ]
  },
  {
   "cell_type": "code",
   "execution_count": 36,
   "metadata": {},
   "outputs": [],
   "source": [
    "model, preprocess_train, preprocess_val = open_clip.create_model_and_transforms('ViT-B-32', pretrained='laion2b_s34b_b79k')\n",
    "model.to(DEVICE)\n",
    "tokenizer = open_clip.get_tokenizer('ViT-B-32')"
   ]
  },
  {
   "cell_type": "code",
   "execution_count": 37,
   "metadata": {},
   "outputs": [],
   "source": [
    "params = [\n",
    "    \"--train-data\", f\"{DATA_PATH}/imagenet_captions_train_c10.csv\",\n",
    "    \"--val-data\", f\"{DATA_PATH}/imagenet_captions_val_c10.csv\",\n",
    "    \"--dataset-type\", \"csv\",\n",
    "    \"--csv-img-key\", \"filepath\",\n",
    "    \"--csv-caption-key\", \"title\"\n",
    "]\n",
    "args = parse_args(params)\n",
    "args.distributed = False"
   ]
  },
  {
   "cell_type": "code",
   "execution_count": 5,
   "metadata": {},
   "outputs": [],
   "source": [
    "# data = get_data(\n",
    "#     args,\n",
    "#     (preprocess_train, preprocess_val),\n",
    "#     epoch=0,\n",
    "#     tokenizer=tokenizer,\n",
    "# )\n",
    "# dataloader = data['train'].dataloader"
   ]
  },
  {
   "cell_type": "code",
   "execution_count": 38,
   "metadata": {},
   "outputs": [],
   "source": [
    "# Create dataloader from scratch to not drop last\n",
    "is_train = True\n",
    "input_filename = args.train_data if is_train else args.val_data\n",
    "assert input_filename\n",
    "dataset = CsvDataset(\n",
    "    input_filename,\n",
    "    preprocess_train,\n",
    "    img_key=args.csv_img_key,\n",
    "    caption_key=args.csv_caption_key,\n",
    "    sep=args.csv_separator,\n",
    "    tokenizer=tokenizer,\n",
    ")\n",
    "num_samples = len(dataset)\n",
    "sampler = DistributedSampler(dataset) if args.distributed and is_train else None\n",
    "shuffle = is_train and sampler is None\n",
    "\n",
    "dataloader = DataLoader(\n",
    "    dataset,\n",
    "    batch_size=args.batch_size,\n",
    "    shuffle=shuffle,\n",
    "    num_workers=args.workers,\n",
    "    pin_memory=True,\n",
    "    sampler=sampler,\n",
    "    drop_last=False, # TODO: Changed from original\n",
    ")\n",
    "dataloader.num_samples = num_samples\n",
    "dataloader.num_batches = len(dataloader)"
   ]
  },
  {
   "cell_type": "markdown",
   "metadata": {},
   "source": [
    "### Perform Quantization"
   ]
  },
  {
   "cell_type": "code",
   "execution_count": 40,
   "metadata": {},
   "outputs": [
    {
     "name": "stderr",
     "output_type": "stream",
     "text": [
      "191it [00:34,  5.48it/s]\n"
     ]
    }
   ],
   "source": [
    "all_image_features, all_text_features, all_idx = [], [], []\n",
    "with torch.no_grad():\n",
    "    for i, batch in tqdm(enumerate(dataloader)):\n",
    "        idx, images, texts = batch\n",
    "        image_features = model.encode_image(images.to(DEVICE))\n",
    "        text_features = model.encode_text(texts.to(DEVICE))\n",
    "        image_features /= image_features.norm(dim=-1, keepdim=True)\n",
    "        text_features /= text_features.norm(dim=-1, keepdim=True)\n",
    "        all_image_features.append(image_features)\n",
    "        all_text_features.append(text_features)\n",
    "        all_idx.append(idx)\n",
    "        \n",
    "all_image_features = torch.cat(all_image_features).cpu().detach().numpy()\n",
    "all_text_features = torch.cat(all_text_features).cpu().detach().numpy()\n",
    "all_idx = torch.cat(all_idx).cpu().detach().numpy()"
   ]
  },
  {
   "cell_type": "code",
   "execution_count": 41,
   "metadata": {},
   "outputs": [
    {
     "name": "stdout",
     "output_type": "stream",
     "text": [
      "(12218, 512)\n",
      "(12218, 512)\n",
      "(12218,)\n"
     ]
    }
   ],
   "source": [
    "print(all_image_features.shape)\n",
    "print(all_text_features.shape)\n",
    "print(all_idx.shape)"
   ]
  },
  {
   "cell_type": "code",
   "execution_count": 42,
   "metadata": {},
   "outputs": [],
   "source": [
    "class KMeans(object):\n",
    "    \n",
    "    def __init__(self, norm, pca, idx, index, marginal):\n",
    "        self.norm = norm\n",
    "        self.pca = pca\n",
    "        self.idx = idx\n",
    "        self.index = index\n",
    "        self.marginal = marginal\n",
    "    \n",
    "    def clustering(self, features):\n",
    "        data = features\n",
    "        if self.norm in ['l2', 'l1']:\n",
    "            data = normalize(data, norm=self.norm, axis=1)\n",
    "        data = self.pca.transform(data)[:, :self.idx+1]\n",
    "        data = data.astype(np.float32)\n",
    "        _, labels = self.index.search(data, 1)\n",
    "        labels = labels.reshape(-1)\n",
    "        return labels\n",
    "\n",
    "\n",
    "def cluster_feat(features, num_clusters,\n",
    "                 norm='none', whiten=True,\n",
    "                 pca_max_data=-1,\n",
    "                 explained_variance=0.9,\n",
    "                 num_redo=5, max_iter=500, seed=0):\n",
    "    assert 0 < explained_variance < 1\n",
    "    assert norm in ['none', 'l2', 'l1', None]\n",
    "    data1 = features\n",
    "    if norm in ['l2', 'l1']:\n",
    "        data1 = normalize(data1, norm=norm, axis=1)\n",
    "    pca = PCA(n_components=None, whiten=whiten, random_state=seed+1)\n",
    "    if pca_max_data < 0 or pca_max_data >= data1.shape[0]:\n",
    "        pca.fit(data1)\n",
    "    elif 0 < pca_max_data < data1.shape[0]:\n",
    "        rng = np.random.RandomState(seed+5)\n",
    "        idxs = rng.choice(data1.shape[0], size=pca_max_data, replace=False)\n",
    "        pca.fit(data1[idxs])\n",
    "    else:\n",
    "        raise ValueError(f'Invalid argument pca_max_data={pca_max_data} with {data1.shape[0]} datapoints')\n",
    "    s = np.cumsum(pca.explained_variance_ratio_)\n",
    "    idx = np.argmax(s >= explained_variance)  # last index to consider\n",
    "    data1 = pca.transform(data1)[:, :idx+1]\n",
    "    # Cluster\n",
    "    data1 = data1.astype(np.float32)\n",
    "    kmeans = faiss.Kmeans(data1.shape[1], num_clusters, niter=max_iter,\n",
    "                          nredo=num_redo, update_index=True, seed=seed+2, min_points_per_centroid=50)\n",
    "    kmeans.train(data1)\n",
    "    index = kmeans.index\n",
    "    _, labels = index.search(data1, 1)\n",
    "    \n",
    "    # Drop clusters with low frequency\n",
    "    ids, counts = np.unique(labels, return_counts=True)\n",
    "    to_remove = ids[counts < 50]\n",
    "    if len(to_remove) > 0:\n",
    "        index.remove_ids(to_remove)\n",
    "        _, labels = index.search(data1, 1)\n",
    "    \n",
    "    _, counts = np.unique(labels, return_counts=True)\n",
    "    cluster = KMeans(norm, pca, idx, index, counts/np.sum(counts))\n",
    "    return labels.reshape(-1), cluster"
   ]
  },
  {
   "cell_type": "code",
   "execution_count": 43,
   "metadata": {},
   "outputs": [],
   "source": [
    "NUM_CLUSTERS = 50\n",
    "SEED = 4282022"
   ]
  },
  {
   "cell_type": "code",
   "execution_count": 44,
   "metadata": {},
   "outputs": [],
   "source": [
    "image_labels, image_cluster = cluster_feat(all_image_features, NUM_CLUSTERS, seed=SEED)"
   ]
  },
  {
   "cell_type": "code",
   "execution_count": 45,
   "metadata": {},
   "outputs": [],
   "source": [
    "text_labels, text_cluster = cluster_feat(all_text_features, NUM_CLUSTERS, seed=SEED)"
   ]
  },
  {
   "cell_type": "code",
   "execution_count": 49,
   "metadata": {},
   "outputs": [
    {
     "data": {
      "text/plain": [
       "array([    0,     1,     2, ..., 12215, 12216, 12217])"
      ]
     },
     "execution_count": 49,
     "metadata": {},
     "output_type": "execute_result"
    }
   ],
   "source": [
    "label_to_idx = np.argsort(all_idx)\n",
    "all_idx[label_to_idx]"
   ]
  },
  {
   "cell_type": "code",
   "execution_count": 51,
   "metadata": {},
   "outputs": [],
   "source": [
    "# have the labels correspond to the indices in order.\n",
    "image_labels_sorted = image_labels[label_to_idx]\n",
    "text_labels_sorted = text_labels[label_to_idx]"
   ]
  },
  {
   "cell_type": "code",
   "execution_count": 53,
   "metadata": {},
   "outputs": [],
   "source": [
    "DATA_PATH = f'/mnt/ssd/ronak/datasets/imagenet_captions/quantization/vit_b32_laion2b_kmeans_{NUM_CLUSTERS}'\n",
    "\n",
    "# with open(os.path.join(DATA_PATH, f'vit_b32_laion2b_kmeans_{NUM_CLUSTERS}_image.p'), 'wb+') as f:\n",
    "#     pickle.dump(image_cluster, f)\n",
    "\n",
    "# with open(os.path.join(DATA_PATH, f'vit_b32_laion2b_kmeans_{NUM_CLUSTERS}_text.p'), 'wb+') as f:\n",
    "#     pickle.dump(text_cluster, f)\n",
    "\n",
    "np.save(os.path.join(DATA_PATH, f'image_labels.npy'), image_labels_sorted)\n",
    "np.save(os.path.join(DATA_PATH, f'text_labels.npy'), text_labels_sorted)"
   ]
  },
  {
   "cell_type": "code",
   "execution_count": 54,
   "metadata": {},
   "outputs": [
    {
     "data": {
      "text/plain": [
       "48"
      ]
     },
     "execution_count": 54,
     "metadata": {},
     "output_type": "execute_result"
    }
   ],
   "source": [
    "len(image_cluster.marginal)"
   ]
  },
  {
   "cell_type": "code",
   "execution_count": 55,
   "metadata": {},
   "outputs": [],
   "source": [
    "np.save(os.path.join(DATA_PATH, f'image_marginal.npy'), image_cluster.marginal)\n",
    "np.save(os.path.join(DATA_PATH, f'text_marginal.npy'), text_cluster.marginal)"
   ]
  },
  {
   "cell_type": "code",
   "execution_count": null,
   "metadata": {},
   "outputs": [],
   "source": []
  }
 ],
 "metadata": {
  "kernelspec": {
   "display_name": "clip",
   "language": "python",
   "name": "python3"
  },
  "language_info": {
   "codemirror_mode": {
    "name": "ipython",
    "version": 3
   },
   "file_extension": ".py",
   "mimetype": "text/x-python",
   "name": "python",
   "nbconvert_exporter": "python",
   "pygments_lexer": "ipython3",
   "version": "3.9.12"
  }
 },
 "nbformat": 4,
 "nbformat_minor": 2
}
