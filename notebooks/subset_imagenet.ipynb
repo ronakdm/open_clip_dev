{
 "cells": [
  {
   "cell_type": "code",
   "execution_count": 1,
   "metadata": {},
   "outputs": [],
   "source": [
    "import pandas as pd\n",
    "import numpy as np\n",
    "import os\n",
    "import subprocess\n",
    "from tqdm import tqdm"
   ]
  },
  {
   "cell_type": "markdown",
   "metadata": {},
   "source": [
    "### Create CSV of Image Locations"
   ]
  },
  {
   "cell_type": "code",
   "execution_count": 2,
   "metadata": {},
   "outputs": [],
   "source": [
    "NUM_CLASSES = 10"
   ]
  },
  {
   "cell_type": "code",
   "execution_count": 3,
   "metadata": {},
   "outputs": [],
   "source": [
    "data_path = \"/mnt/hdd2/pillutla/data/imagenet_captions\"\n",
    "save_path = \"/mnt/ssd/ronak/datasets/imagenet_captions\"\n",
    "\n",
    "train_path = f\"{data_path}/imagenet_captions_train.csv\"\n",
    "val_path = f\"{data_path}/imagenet_captions_val.csv\""
   ]
  },
  {
   "cell_type": "code",
   "execution_count": 4,
   "metadata": {},
   "outputs": [],
   "source": [
    "df_train = pd.read_csv(train_path, sep=\"\\t\")\n",
    "df_test = pd.read_csv(val_path, sep=\"\\t\")"
   ]
  },
  {
   "cell_type": "code",
   "execution_count": 5,
   "metadata": {},
   "outputs": [],
   "source": [
    "images = df_train[\"filepath\"].tolist()\n",
    "train_images = [os.path.split(p)[0] for p in images]\n",
    "train_folders, train_num_images_per_class = np.unique(train_images, return_counts=True)\n",
    "\n",
    "images = df_test[\"filepath\"].tolist()\n",
    "test_images = [os.path.split(p)[0] for p in images]\n",
    "test_folders, test_num_images_per_class = np.unique(test_images, return_counts=True)"
   ]
  },
  {
   "cell_type": "code",
   "execution_count": 6,
   "metadata": {},
   "outputs": [],
   "source": [
    "# find 10 classes with the smallest number of images\n",
    "sub_ind = np.argsort(test_num_images_per_class)[-NUM_CLASSES:]\n",
    "sub_folders = test_folders[sub_ind]"
   ]
  },
  {
   "cell_type": "code",
   "execution_count": 7,
   "metadata": {},
   "outputs": [
    {
     "name": "stdout",
     "output_type": "stream",
     "text": [
      "1185\n",
      "1068\n",
      "1150\n",
      "1262\n",
      "1150\n",
      "1177\n",
      "1524\n",
      "1301\n",
      "1120\n",
      "1281\n"
     ]
    }
   ],
   "source": [
    "for folder in sub_folders:\n",
    "    idx = list(train_folders).index(folder)\n",
    "    print(train_num_images_per_class[idx])"
   ]
  },
  {
   "cell_type": "code",
   "execution_count": 8,
   "metadata": {},
   "outputs": [],
   "source": [
    "df_sub_train = df_train.loc[[folder in sub_folders for folder in train_images]].reset_index(drop=True)\n",
    "df_sub_test = df_test.loc[[folder in sub_folders for folder in test_images]].reset_index(drop=True)"
   ]
  },
  {
   "cell_type": "code",
   "execution_count": 9,
   "metadata": {},
   "outputs": [
    {
     "data": {
      "text/html": [
       "<div>\n",
       "<style scoped>\n",
       "    .dataframe tbody tr th:only-of-type {\n",
       "        vertical-align: middle;\n",
       "    }\n",
       "\n",
       "    .dataframe tbody tr th {\n",
       "        vertical-align: top;\n",
       "    }\n",
       "\n",
       "    .dataframe thead th {\n",
       "        text-align: right;\n",
       "    }\n",
       "</style>\n",
       "<table border=\"1\" class=\"dataframe\">\n",
       "  <thead>\n",
       "    <tr style=\"text-align: right;\">\n",
       "      <th></th>\n",
       "      <th>title</th>\n",
       "      <th>filepath</th>\n",
       "    </tr>\n",
       "  </thead>\n",
       "  <tbody>\n",
       "    <tr>\n",
       "      <th>0</th>\n",
       "      <td>AL0226C-010-Meerkat-m</td>\n",
       "      <td>/mnt/hdd2/pillutla/data/imagenet_captions/imag...</td>\n",
       "    </tr>\n",
       "    <tr>\n",
       "      <th>1</th>\n",
       "      <td>Erdmännchen / Meerkat</td>\n",
       "      <td>/mnt/hdd2/pillutla/data/imagenet_captions/imag...</td>\n",
       "    </tr>\n",
       "    <tr>\n",
       "      <th>2</th>\n",
       "      <td>Meerkat</td>\n",
       "      <td>/mnt/hdd2/pillutla/data/imagenet_captions/imag...</td>\n",
       "    </tr>\n",
       "    <tr>\n",
       "      <th>3</th>\n",
       "      <td>Ringtail Lemur</td>\n",
       "      <td>/mnt/hdd2/pillutla/data/imagenet_captions/imag...</td>\n",
       "    </tr>\n",
       "    <tr>\n",
       "      <th>4</th>\n",
       "      <td>meerkat</td>\n",
       "      <td>/mnt/hdd2/pillutla/data/imagenet_captions/imag...</td>\n",
       "    </tr>\n",
       "    <tr>\n",
       "      <th>...</th>\n",
       "      <td>...</td>\n",
       "      <td>...</td>\n",
       "    </tr>\n",
       "    <tr>\n",
       "      <th>12213</th>\n",
       "      <td>IMG_3457  Wallace &amp; Diesel</td>\n",
       "      <td>/mnt/hdd2/pillutla/data/imagenet_captions/imag...</td>\n",
       "    </tr>\n",
       "    <tr>\n",
       "      <th>12214</th>\n",
       "      <td>Terry and Posey</td>\n",
       "      <td>/mnt/hdd2/pillutla/data/imagenet_captions/imag...</td>\n",
       "    </tr>\n",
       "    <tr>\n",
       "      <th>12215</th>\n",
       "      <td>thug</td>\n",
       "      <td>/mnt/hdd2/pillutla/data/imagenet_captions/imag...</td>\n",
       "    </tr>\n",
       "    <tr>\n",
       "      <th>12216</th>\n",
       "      <td>DSCF2785.JPG</td>\n",
       "      <td>/mnt/hdd2/pillutla/data/imagenet_captions/imag...</td>\n",
       "    </tr>\n",
       "    <tr>\n",
       "      <th>12217</th>\n",
       "      <td>Omar Regarding Me</td>\n",
       "      <td>/mnt/hdd2/pillutla/data/imagenet_captions/imag...</td>\n",
       "    </tr>\n",
       "  </tbody>\n",
       "</table>\n",
       "<p>12218 rows × 2 columns</p>\n",
       "</div>"
      ],
      "text/plain": [
       "                            title  \\\n",
       "0           AL0226C-010-Meerkat-m   \n",
       "1           Erdmännchen / Meerkat   \n",
       "2                         Meerkat   \n",
       "3                  Ringtail Lemur   \n",
       "4                         meerkat   \n",
       "...                           ...   \n",
       "12213  IMG_3457  Wallace & Diesel   \n",
       "12214             Terry and Posey   \n",
       "12215                        thug   \n",
       "12216                DSCF2785.JPG   \n",
       "12217           Omar Regarding Me   \n",
       "\n",
       "                                                filepath  \n",
       "0      /mnt/hdd2/pillutla/data/imagenet_captions/imag...  \n",
       "1      /mnt/hdd2/pillutla/data/imagenet_captions/imag...  \n",
       "2      /mnt/hdd2/pillutla/data/imagenet_captions/imag...  \n",
       "3      /mnt/hdd2/pillutla/data/imagenet_captions/imag...  \n",
       "4      /mnt/hdd2/pillutla/data/imagenet_captions/imag...  \n",
       "...                                                  ...  \n",
       "12213  /mnt/hdd2/pillutla/data/imagenet_captions/imag...  \n",
       "12214  /mnt/hdd2/pillutla/data/imagenet_captions/imag...  \n",
       "12215  /mnt/hdd2/pillutla/data/imagenet_captions/imag...  \n",
       "12216  /mnt/hdd2/pillutla/data/imagenet_captions/imag...  \n",
       "12217  /mnt/hdd2/pillutla/data/imagenet_captions/imag...  \n",
       "\n",
       "[12218 rows x 2 columns]"
      ]
     },
     "execution_count": 9,
     "metadata": {},
     "output_type": "execute_result"
    }
   ],
   "source": [
    "df_sub_train"
   ]
  },
  {
   "cell_type": "code",
   "execution_count": 10,
   "metadata": {},
   "outputs": [
    {
     "name": "stderr",
     "output_type": "stream",
     "text": [
      "100%|██████████| 12218/12218 [00:00<00:00, 98992.43it/s]\n",
      "100%|██████████| 940/940 [00:00<00:00, 88830.34it/s]\n"
     ]
    }
   ],
   "source": [
    "superfolders_train = [f.split(\"/\")[7] for f in df_sub_train['filepath'].tolist()]\n",
    "superfolders_test = [f.split(\"/\")[7] for f in df_sub_test['filepath'].tolist()]\n",
    "for folder in tqdm(superfolders_train):\n",
    "    os.makedirs(os.path.join(save_path, \"imagenet_images_flickr\", folder), exist_ok=True)\n",
    "for folder in tqdm(superfolders_test):\n",
    "    os.makedirs(os.path.join(save_path, \"imagenet_images_flickr\", folder), exist_ok=True)"
   ]
  },
  {
   "cell_type": "code",
   "execution_count": 12,
   "metadata": {},
   "outputs": [
    {
     "name": "stderr",
     "output_type": "stream",
     "text": [
      "100%|██████████| 12218/12218 [02:55<00:00, 69.59it/s]\n"
     ]
    }
   ],
   "source": [
    "# copy files over\n",
    "for fp in tqdm(df_sub_train['filepath'].tolist()):\n",
    "    subprocess.run(['cp', fp, os.path.join(save_path, \"imagenet_images_flickr\", fp.split(\"/\")[7])], check=True)"
   ]
  },
  {
   "cell_type": "code",
   "execution_count": 13,
   "metadata": {},
   "outputs": [
    {
     "name": "stderr",
     "output_type": "stream",
     "text": [
      "100%|██████████| 940/940 [00:14<00:00, 64.60it/s]\n"
     ]
    }
   ],
   "source": [
    "# copy files over\n",
    "for fp in tqdm(df_sub_test['filepath'].tolist()):\n",
    "    subprocess.run(['cp', fp, os.path.join(save_path, \"imagenet_images_flickr\", fp.split(\"/\")[7])], check=True)"
   ]
  },
  {
   "cell_type": "code",
   "execution_count": 14,
   "metadata": {},
   "outputs": [],
   "source": [
    "# rewrite filepath to correct destination\n",
    "df_sub_train['filepath'] = df_sub_train['filepath'].map(lambda x: os.path.join(save_path, x.split(data_path + \"/\")[-1]))\n",
    "df_sub_test['filepath'] = df_sub_test['filepath'].map(lambda x: os.path.join(save_path, x.split(data_path + \"/\")[-1]))"
   ]
  },
  {
   "cell_type": "code",
   "execution_count": 15,
   "metadata": {},
   "outputs": [],
   "source": [
    "df_sub_train.to_csv(f\"{save_path}/imagenet_captions_train_c{NUM_CLASSES}.csv\", sep=\"\\t\", index=False)\n",
    "df_sub_test.to_csv(f\"{save_path}/imagenet_captions_val_c{NUM_CLASSES}.csv\", sep=\"\\t\", index=False)"
   ]
  },
  {
   "cell_type": "code",
   "execution_count": null,
   "metadata": {},
   "outputs": [],
   "source": [
    "images = df_sub_train[\"filepath\"].tolist()\n",
    "sub_train_images = [os.path.split(p)[0] for p in images]\n",
    "np.unique(sub_train_images, return_counts=True)"
   ]
  },
  {
   "cell_type": "code",
   "execution_count": null,
   "metadata": {},
   "outputs": [],
   "source": [
    "images = df_sub_test[\"filepath\"].tolist()\n",
    "sub_test_images = [os.path.split(p)[0] for p in images]\n",
    "np.unique(sub_test_images, return_counts=True)"
   ]
  },
  {
   "cell_type": "markdown",
   "metadata": {},
   "source": []
  }
 ],
 "metadata": {
  "kernelspec": {
   "display_name": "Python 3",
   "language": "python",
   "name": "python3"
  },
  "language_info": {
   "codemirror_mode": {
    "name": "ipython",
    "version": 3
   },
   "file_extension": ".py",
   "mimetype": "text/x-python",
   "name": "python",
   "nbconvert_exporter": "python",
   "pygments_lexer": "ipython3",
   "version": "3.9.12"
  }
 },
 "nbformat": 4,
 "nbformat_minor": 2
}
